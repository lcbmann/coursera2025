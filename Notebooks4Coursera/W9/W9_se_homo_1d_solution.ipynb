{
 "cells": [
  {
   "cell_type": "markdown",
   "metadata": {},
   "source": [
    "<div style='background-image: url(\"title01.png\") ; padding: 0px ; background-size: cover ; border-radius: 5px ; height: 200px'>\n",
    "<div style=\"float: right ; margin: 50px ; padding: 20px ; background: rgba(255 , 255 , 255 , 0.7) ; width: 50% ; height: 150px\">\n",
    "        <div style=\"position: relative ; top: 50% ; transform: translatey(-50%)\">\n",
    "            <div style=\"font-size: xx-large ; font-weight: 900 ; color: rgba(0 , 0 , 0 , 0.8) ; line-height: 100%\">Computers, Waves, Simulations</div>\n",
    "            <div style=\"font-size: large ; padding-top: 20px ; color: rgba(0 , 0 , 0 , 0.5)\">Spectral Element Method - Elastic Wave Equation 1D - Homogeneous Case</div>\n",
    "        </div>\n",
    "    </div>\n",
    "</div>"
   ]
  },
  {
   "cell_type": "code",
   "execution_count": null,
   "metadata": {},
   "outputs": [],
   "source": []
  },
  {
   "cell_type": "markdown",
   "metadata": {},
   "source": [
    "This notebook covers the following aspects:\n",
    "* The weak form of the 1D elastic wave equation\n",
    "* Initialization and implementataion of the Mass and Stiffness Matrices\n",
    "* Solution using the finite difference scheme and its comparion with FEM solution"
   ]
  },
  {
   "cell_type": "markdown",
   "metadata": {},
   "source": [
    "## Basic Equations\n",
    "\n",
    "This notebook presents the numerical solution for the 1D elastic wave equation\n",
    "\n",
    "\\begin{equation}\n",
    "\\rho(x) \\partial_t^2 u(x,t) = \\partial_x (\\mu(x) \\partial_x u(x,t)) + f(x,t),\n",
    "\\end{equation}\n",
    "\n",
    "using the spectral element method. This is done after a series of steps summarized as follow:\n",
    "\n",
    "1) The wave equation is written into its weak form\n",
    "\n",
    "2) Assume stress-free boundary condition after integration by parts \n",
    "\n",
    "3) Approximate the wave field as a linear combination of some basis\n",
    "\n",
    "\\begin{equation}\n",
    "u(x,t) \\ \\approx \\ \\overline{u}(x,t) \\ = \\ \\sum_{i=1}^{n} u_i(t) \\ \\varphi_i(x)\n",
    "\\end{equation}\n",
    "\n",
    "4) Use the same basis functions in $u(x, t)$ as test functions in the weak form, the so call Galerkin principle.\n",
    "\n",
    "6) The continuous weak form is written as a system of linear equations by considering the approximated displacement field.\n",
    "\n",
    "\\begin{equation}\n",
    "\\mathbf{M}^T\\partial_t^2 \\mathbf{u} + \\mathbf{K}^T\\mathbf{u} = \\mathbf{f}\n",
    "\\end{equation}\n",
    "\n",
    "7) Time extrapolation with centered finite differences scheme\n",
    "\n",
    "\\begin{equation}\n",
    "\\mathbf{u}(t + dt) = dt^2 (\\mathbf{M}^T)^{-1}[\\mathbf{f} - \\mathbf{K}^T\\mathbf{u}] + 2\\mathbf{u} - \\mathbf{u}(t-dt).\n",
    "\\end{equation}\n",
    "\n",
    "where $\\mathbf{M}$ is known as the mass matrix, and $\\mathbf{K}$ the stiffness matrix.\n",
    "\n",
    "The above solution is exactly the same presented for the classic finite-element method. Now we introduce appropriated basis functions and integration scheme to efficiently solve the system of matrices.\n",
    "\n",
    "#### Interpolation with Lagrange Polynomials\n",
    "At the elemental level, we introduce as interpolating functions the Lagrange polynomials and use $\\xi$ as the space variable representing our elemental domain:\n",
    "\n",
    "\\begin{equation}\n",
    "\\varphi_i \\ \\rightarrow \\ \\ell_i^{(N)} (\\xi) \\ := \\ \\prod_{j \\neq i}^{N+1} \\frac{\\xi - \\xi_j}{\\xi_i-\\xi_j}, \\qquad   i,j = 1, 2, \\dotsc , N + 1  \n",
    "\\end{equation}\n",
    "\n",
    "#### Numerical Integration\n",
    "The integral of a continuous function $f(x)$ can be calculated after replacing $f(x)$ by a polynomial approximation that can be integrated analytically. As interpolating functions we use again the Lagrange polynomials and\n",
    "obtain Gauss-Lobatto-Legendre quadrature. Here, the GLL points are used to perform the integral. \n",
    "\n",
    "\\begin{equation}\n",
    "\\int_{-1}^1 f(x) \\ dx \\approx \\int _{-1}^1 P_N(x) dx = \\sum_{i=1}^{N+1}\n",
    " w_i f(x_i) \n",
    "\\end{equation}\n",
    "\n",
    "\n",
    "\n"
   ]
  },
  {
   "cell_type": "code",
   "execution_count": null,
   "metadata": {
    "code_folding": [
     0
    ],
    "collapsed": true
   },
   "outputs": [],
   "source": [
    "# This is a configuration step for the exercise. Please run it before plotting!\n",
    "import numpy as np\n",
    "%matplotlib inline\n",
    "import matplotlib.pyplot as plt\n",
    "import math\n",
    "from IPython.display import display, HTML\n",
    "from progress_bar import ProgressBarHandler\n",
    "from ricker import ricker\n",
    "from gll import gll\n",
    "from lagrange1st import lagrange1st"
   ]
  },
  {
   "cell_type": "markdown",
   "metadata": {},
   "source": [
    "### 1. Initialization of setup"
   ]
  },
  {
   "cell_type": "code",
   "execution_count": 2,
   "metadata": {
    "collapsed": true
   },
   "outputs": [],
   "source": [
    "# Initialization of setup\n",
    "# ---------------------------------------------------------------\n",
    "nt    = 600         # number of time steps\n",
    "xmax  = 10000.        # Length of domain [m]\n",
    "vs    = 2500.         # S velocity [m/s]\n",
    "rho   = 2000          # Density [kg/m^3]\n",
    "mu    = rho * vs**2   # Shear modulus mu\n",
    "N     = 5           # Order of Lagrange polynomials\n",
    "ne    = 125           # Number of elements\n",
    "Tdom  = .1            # Dominant period of Ricker source wavelet\n",
    "idisp = 5            # Plotting each iplot snapshot\n",
    "\n",
    "# variables for elemental matrices\n",
    "Me = np.zeros(N+1, dtype =  float)\n",
    "Ke = np.zeros((N+1, N+1), dtype =  float)\n",
    "# ----------------------------------------------------------------\n",
    "\n",
    "# Initialization of GLL points integration weights\n",
    "[xi, w] = gll(N)    # xi, N+1 coordinates [-1 1] of GLL points\n",
    "                    # w Integration weights at GLL locations\n",
    "# Space domain\n",
    "le = xmax/ne        # Length of elements\n",
    "# Vector with GLL points  \n",
    "k = 0\n",
    "\n",
    "# Initialization of physical coordinates xg in the entire space (commment added May 15, 2020)\n",
    "xg = np.zeros((N*ne)+1) \n",
    "xg[k] = 0\n",
    "for i in range(1,ne+1):\n",
    "    for j in range(0,N):\n",
    "        k = k+1\n",
    "        xg[k] = (i-1)*le + .5*(xi[j+1]+1)*le\n",
    "\n",
    "# ---------------------------------------------------------------\n",
    "dxmin = min(np.diff(xg))  \n",
    "eps = 0.2           # Courant value\n",
    "dt = eps*dxmin/vs   # Global time step\n",
    "\n",
    "# Mapping - Jacobian\n",
    "J = le/2 \n",
    "Ji = 1/J    # Inverse Jacobian\n",
    "\n",
    "# 1st derivative of Lagrange polynomials\n",
    "l1d = lagrange1st(N)   # Array with GLL as columns for each N+1 polynomial\n"
   ]
  },
  {
   "cell_type": "code",
   "execution_count": null,
   "metadata": {},
   "outputs": [],
   "source": [
    "# --- Assembly & sizes (must run before mass/stiffness plots and time loop) ---\n",
    "ng = N*ne + 1\n",
    "\n",
    "M  = np.zeros((ng, ng))\n",
    "K  = np.zeros((ng, ng))\n",
    "Minv = None\n",
    "\n",
    "J  = le/2.0\n",
    "Ji = 1.0/J\n",
    "W  = np.diag(w)\n",
    "\n",
    "# Homogeneous rho, mu (scalars)\n",
    "Me = (rho * J) * W                       # (N+1)x(N+1)\n",
    "Ke = (mu * (Ji**2) * J) * (l1d.T @ W @ l1d)\n",
    "\n",
    "for e in range(ne):\n",
    "    idx = e*N + np.arange(N+1)\n",
    "    M[np.ix_(idx, idx)] += Me\n",
    "    K[np.ix_(idx, idx)] += Ke\n",
    "\n",
    "# Mass-lumped inverse (diagonal)\n",
    "Minv = np.diag(1.0 / np.diag(M))"
   ]
  },
  {
   "cell_type": "markdown",
   "metadata": {
    "solution2": "hidden",
    "solution2_first": true
   },
   "source": [
    "### 2. The Mass Matrix\n",
    "Now we initialize the mass and stiffness matrices. In general, the mass matrix at the elemental level is given\n",
    "\n",
    "\\begin{equation}\n",
    "M_{ji}^e \\ = \\ w_j  \\ \\rho (\\xi)  \\ \\frac{\\mathrm{d}x}{\\mathrm{d}\\xi} \\delta_{ij} \\vert_ {\\xi = \\xi_j}\n",
    "\\end{equation}\n",
    "\n",
    "\n",
    "We implement the mass matrix using the integration weights at GLL locations $w$, the jacobian $J$, and density $\\rho$. Then, perform the global assembly of the mass matrix, compute its inverse, and display the inverse mass matrix to visually inspect how it looks like."
   ]
  },
  {
   "cell_type": "code",
   "execution_count": null,
   "metadata": {
    "code_folding": [],
    "solution2": "hidden"
   },
   "outputs": [],
   "source": [
    "# Plot mass matrix visualization\n",
    "plt.figure(figsize=(6,5))\n",
    "plt.imshow(M, cmap='viridis')\n",
    "plt.colorbar()\n",
    "plt.title(r'Mass Matrix $\\mathbf{M}$')\n",
    "plt.show()"
   ]
  },
  {
   "cell_type": "markdown",
   "metadata": {
    "solution2": "hidden",
    "solution2_first": true
   },
   "source": [
    "### 3. The Stiffness matrix\n",
    "On the other hand, the general form of the stiffness matrix at the elemtal level is\n",
    "\n",
    "\\begin{equation}\n",
    "K_{ji}^e \\ = \\ \\sum_{k = 1}^{N+1} w_k \\mu (\\xi) \\partial_\\xi \\ell_j (\\xi) \\partial_\\xi \\ell_i (\\xi) \\left(\\frac{\\mathrm{d}\\xi}{\\mathrm{d}x} \\right)^2 \\frac{\\mathrm{d}x}{\\mathrm{d}\\xi} \\vert_{\\xi = \\xi_k}\n",
    "\\end{equation} \n",
    "\n",
    "We implement the stiffness matrix using the integration weights at GLL locations $w$, the jacobian $J$, and shear stress $\\mu$. Then, perform the global assembly of the mass matrix and display the matrix to visually inspect how it looks like."
   ]
  },
  {
   "cell_type": "code",
   "execution_count": null,
   "metadata": {
    "solution2": "hidden"
   },
   "outputs": [],
   "source": [
    "# Plot stiffness matrix visualization\n",
    "plt.figure(figsize=(6,5))\n",
    "plt.imshow(K, cmap='viridis')\n",
    "plt.colorbar()\n",
    "plt.title(r'Stiffness Matrix $\\mathbf{K}$')\n",
    "plt.show()"
   ]
  },
  {
   "cell_type": "markdown",
   "metadata": {},
   "source": [
    "### 4. Spectral Element solution \n",
    "\n",
    "Finally we implement the spectral element solution using the computed mass $M$ and stiffness $K$ matrices together with a finite differences extrapolation scheme\n",
    "\n",
    "\\begin{equation}\n",
    "\\mathbf{u}(t + dt) = dt^2 (\\mathbf{M}^T)^{-1}[\\mathbf{f} - \\mathbf{K}^T\\mathbf{u}] + 2\\mathbf{u} - \\mathbf{u}(t-dt).\n",
    "\\end{equation}"
   ]
  },
  {
   "cell_type": "code",
   "execution_count": null,
   "metadata": {
    "code_folding": [
     39
    ]
   },
   "outputs": [],
   "source": [
    "# SE Solution, Time extrapolation\n",
    "# ---------------------------------------------------------------\n",
    "\n",
    "# initialize source time function and force vector f\n",
    "src  = ricker(dt,Tdom)\n",
    "isrc = int(np.floor(ng/2))   # Source location\n",
    "\n",
    "# Initialization of solution vectors\n",
    "u = np.zeros(ng)\n",
    "uold = u\n",
    "unew = u\n",
    "f = u \n",
    "\n",
    "# --------------------------------------------------------------\n",
    "# Initialize animated plot\n",
    "# --------------------------------------------------------------\n",
    "fig1, ax1 = plt.subplots(figsize=(10,6))\n",
    "line1, = ax1.plot(xg, u, lw=1.5)\n",
    "ax1.set_title('SEM 1D Animation', size=24)\n",
    "ax1.set_xlabel(' x (m)', size=24)\n",
    "ax1.set_ylabel(' Amplitude ', size=24)\n",
    "ax1.tick_params(axis='x', labelsize=16)\n",
    "ax1.tick_params(axis='y', labelsize=16)\n",
    "\n",
    "plt.show()"
   ]
  },
  {
   "cell_type": "code",
   "execution_count": null,
   "metadata": {},
   "outputs": [],
   "source": [
    "# ---------------------------------------------------------------\n",
    "# Time extrapolation\n",
    "# ---------------------------------------------------------------\n",
    "\n",
    "# Progress Bar\n",
    "progress_handler = ProgressBarHandler(nt, \"Finite elements 1D Animation\")\n",
    "\n",
    "# Simulation Results\n",
    "u_results = np.zeros((math.ceil(nt/idisp), (N*ne)+1))\n",
    "\n",
    "for it in range(nt): \n",
    "    # Source initialization\n",
    "    f= np.zeros(ng)\n",
    "    if it < len(src):\n",
    "        f[isrc-1] = src[it-1] \n",
    "               \n",
    "    # Time extrapolation\n",
    "    unew = dt**2 * Minv @ (f - K @ u) + 2 * u - uold\n",
    "    uold, u = u, unew\n",
    "\n",
    "    # --------------------------------------   \n",
    "    # Save Results\n",
    "    if it % idisp == 0:\n",
    "        u_results[int(it/idisp), :] = u\n",
    "\n",
    "    progress_handler(it)\n",
    "\n",
    "None"
   ]
  },
  {
   "cell_type": "code",
   "execution_count": null,
   "metadata": {
    "collapsed": true
   },
   "outputs": [],
   "source": [
    "from animation import create_animation_se_homo_1d_solution\n",
    "\n",
    "ani = create_animation_se_homo_1d_solution(locals())\n",
    "\n",
    "display(HTML(ani.to_jshtml()))"
   ]
  }
 ],
 "metadata": {
  "anaconda-cloud": {},
  "kernelspec": {
   "display_name": "coursera",
   "language": "python",
   "name": "python3"
  },
  "language_info": {
   "codemirror_mode": {
    "name": "ipython",
    "version": 3
   },
   "file_extension": ".py",
   "mimetype": "text/x-python",
   "name": "python",
   "nbconvert_exporter": "python",
   "pygments_lexer": "ipython3",
   "version": "3.12.3"
  }
 },
 "nbformat": 4,
 "nbformat_minor": 1
}
