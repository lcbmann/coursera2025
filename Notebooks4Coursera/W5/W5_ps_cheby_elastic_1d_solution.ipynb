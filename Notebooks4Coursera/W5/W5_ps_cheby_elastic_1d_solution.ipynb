{
 "cells": [
  {
   "cell_type": "markdown",
   "metadata": {},
   "source": [
    "<div style='background-image: url(\"./title01.png\") ; padding: 0px ; background-size: cover ; border-radius: 5px ; height: 200px'>\n",
    "<div style=\"float: right ; margin: 50px ; padding: 20px ; background: rgba(255 , 255 , 255 , 0.7) ; width: 50% ; height: 150px\">\n",
    "<div style=\"position: relative ; top: 50% ; transform: translatey(-50%)\">\n",
    "            <div style=\"font-size: xx-large ; font-weight: 900 ; color: rgba(0 , 0 , 0 , 0.8) ; line-height: 100%\">Computers, Waves, Simulations</div>\n",
    "            <div style=\"font-size: large ; padding-top: 20px ; color: rgba(0 , 0 , 0 , 0.5)\">The Pseudo-Spectral Method - Elastic Wave Equation 1D</div>\n",
    "        </div>\n",
    "    </div>\n",
    "</div>"
   ]
  },
  {
   "cell_type": "markdown",
   "metadata": {},
   "source": [
    "This notebook covers the following aspects:\n",
    "* Initialize the Chebyshev derivative matrix $D_{ij}$ and display the Chebyshev derivative matrix\n",
    "* Define and initialize space, material and source parameters \n",
    "* Extrapolate time using the previously defined Chebyshev derivative matrix \n",
    "\n",
    "**Update May 13, 2020**\n",
    "* Change naming of fields from p to u to make it compatible with equations\n",
    "* Added option for mu and ro to be heterogeneous (i.e., now defined as vectors)\n",
    "* Made space derivative calculations consistent with elastic equation\n"
   ]
  },
  {
   "cell_type": "markdown",
   "metadata": {},
   "source": [
    "## Basic Equations\n",
    "This notebook presents the numerical solution for the 1D elastic wave equation using the Chebyshev Pseudospectral Method. We depart from the equation \n",
    "\n",
    "\\begin{equation}\n",
    "\\rho(x) \\partial_t^2 u(x,t) = \\partial_x (\\mu(x) \\partial_x u(x,t)) + f(x,t),\n",
    "\\end{equation}\n",
    "\n",
    "and use a standard 3-point finite-difference operator to approximate the time derivatives. Then, the displacement field is extrapolated as\n",
    "\n",
    "\\begin{equation}\n",
    "\\rho_i\\frac{u_{i}^{j+1} - 2u_{i}^{j} + u_{i}^{j-1}}{dt^2}= \\partial_x (\\mu(x) \\partial_x u(x,t))_{i}^{j} + f_{i}^{j}\n",
    "\\end{equation}\n",
    "\n",
    "An alternative way of performing space derivatives of a function defined on the Chebyshev collocation points is to define a derivative matrix $D_{ij}$\n",
    "\n",
    "\\begin{equation}\n",
    "D_{ij} =\n",
    "  \\begin{cases}\n",
    "    -\\frac{2 N^2 + 1}{6} \\hspace{1.5cm} \\text{for  i  = j = N}\\\\\n",
    "    -\\frac{1}{2} \\frac{x_i}{1-x_i^2} \\hspace{1.5cm} \\text{for i = j = 1,2,...,N-1}\\\\\n",
    "    \\frac{c_i}{c_j} \\frac{(-1)^{i+j}}{x_i - x_j} \\hspace{1.5cm} \\text{for i $\\neq$ j = 0,1,...,N}\n",
    "  \\end{cases}\n",
    "\\end{equation}\n",
    "\n",
    "where $N+1$ is the number of Chebyshev collocation points $ \\ x_i = cos(i\\pi / N)$, $ \\ i=0,...,N$ and the $c_i$ are given as\n",
    "\n",
    "$$ c_i = 2 \\hspace{1.5cm} \\text{for  i  = 0 or N} $$\n",
    "$$ c_i = 1 \\hspace{1.5cm} \\text{otherwise} $$\n",
    "\n",
    "This differentiation matrix allows us to write the derivative of the function $f_i = f(x_i)$ (possibly depending on time) simply as\n",
    "\n",
    "$$\\partial_x u_i = D_{ij} \\ u_j$$\n",
    "\n",
    "where the right-hand side is a matrix-vector product, and the Einstein summation convention applies."
   ]
  },
  {
   "cell_type": "code",
   "execution_count": null,
   "metadata": {
    "code_folding": []
   },
   "outputs": [],
   "source": [
    "# This is a configuration step for the exercise. Please run it before calculating the derivative!\n",
    "import numpy as np\n",
    "import matplotlib\n",
    "import math\n",
    "\n",
    "# Show Plot in The Notebook\n",
    "# -----------------------\n",
    "import matplotlib.pyplot as plt\n",
    "from IPython.display import HTML, display\n",
    "\n",
    "# Import python function from the file \"ricker.py\"\n",
    "# -----------------------\n",
    "from ricker import ricker \n",
    "\n",
    "from progress_bar import ProgressBarHandler\n",
    "\n",
    "# Ignore Warning Messages\n",
    "# -----------------------\n",
    "import warnings\n",
    "warnings.filterwarnings(\"ignore\")"
   ]
  },
  {
   "cell_type": "markdown",
   "metadata": {
    "solution2": "hidden",
    "solution2_first": true
   },
   "source": [
    "### 1. Chebyshev derivative method\n"
   ]
  },
  {
   "cell_type": "code",
   "execution_count": null,
   "metadata": {
    "solution2": "hidden"
   },
   "outputs": [],
   "source": [
    "# Define Function that initializes the Chebyshev derivative matrix D_{ij} \n",
    "def get_cheby_matrix(nx):\n",
    "    cx = np.zeros(nx+1)\n",
    "    x = np.zeros(nx+1)\n",
    "    for ix in range(0,nx+1):\n",
    "        x[ix] = np.cos(np.pi * ix / nx)\n",
    "   \n",
    "    cx[0] = 2.\n",
    "    cx[nx] = 2.\n",
    "    cx[1:nx] = 1.\n",
    "   \n",
    "    D = np.zeros((nx+1,nx+1))\n",
    "    for i in range(0, nx+1):\n",
    "        for j in range(0, nx+1):\n",
    "            if i==j and i!=0 and i!=nx:\n",
    "                D[i,i]=-x[i]/(2.0*(1.0-x[i]*x[i]))\n",
    "            else:\n",
    "                D[i,j]=(cx[i]*(-1)**(i+j))/(cx[j]*(x[i]-x[j]))\n",
    "  \n",
    "    D[0,0] = (2.*nx**2+1.)/6.\n",
    "    D[nx,nx] = -D[0,0]\n",
    "    return D \n",
    "\n",
    "# Call the chebyshev differentiation matrix\n",
    "# ---------------------------------------------------------------\n",
    "D_ij = get_cheby_matrix(50)\n",
    "\n",
    "# ---------------------------------------------------------------\n",
    "# Display Differentiation Matrix\n",
    "# ---------------------------------------------------------------\n",
    "plt.imshow(D_ij, interpolation=\"bicubic\", cmap=\"gray\")\n",
    "plt.title('Differentiation Matrix $D_{ij}$')\n",
    "plt.axis(\"off\")\n",
    "plt.tight_layout()\n",
    "plt.show()"
   ]
  },
  {
   "cell_type": "markdown",
   "metadata": {},
   "source": [
    "### 2. Initialization of setup"
   ]
  },
  {
   "cell_type": "code",
   "execution_count": null,
   "metadata": {
    "code_folding": [
     0
    ]
   },
   "outputs": [],
   "source": [
    "# Basic parameters\n",
    "# ---------------------------------------------------------------\n",
    "tmax  = 0.0003    # Seismogram length\n",
    "eps   = 1.4       # stability limit\n",
    "isx   = 100       # Index of source location\n",
    "lw    = 0.7       # Linewidth    \n",
    "f0    = 50000     # dominant frequency\n",
    "idisp = 20        # Snapshot frequency\n",
    "\n",
    "# space domain\n",
    "nx = 100     # number of grid points in x 199\n",
    "xs = np.floor(nx/2)      # source location\n",
    "x  = np.zeros(nx+1) \n",
    "\n",
    "# initialization of pressure fields\n",
    "u = np.zeros(nx+1) \n",
    "unew = np.zeros(nx+1)\n",
    "uold = np.zeros(nx+1)\n",
    "d2u  = np.zeros(nx+1) \n",
    "\n",
    "# Background elastic parameters\n",
    "rho0 = 2500.   # kg/m^3\n",
    "c0 = 3000.     # m/s\n",
    "mu0 = rho0*c0**2 # Pa \n",
    "\n",
    "# material parameters (in vector)\n",
    "rho = np.zeros(nx+1) + rho0\n",
    "c = np.zeros(nx+1) + c0\n",
    "mu = np.zeros(nx+1) + mu0\n",
    "\n",
    "\n",
    "# material parameters (heterogeneous case, uncomment if desired)\n",
    "#mu[:np.int(nx/3)]  = 0.6*mu[:np.int(nx/3)]\n",
    "#c = np.sqrt(mu/rho)\n",
    "\n",
    "# Initialize spatial domain [-1, 1]\n",
    "for ix in range(0,nx+1):\n",
    "    x[ix] = np.cos(ix * np.pi / nx) \n",
    "dxmin = min(abs(np.diff(x)))\n",
    "dxmax = max(abs(np.diff(x)))\n",
    "\n",
    "dt = eps*dxmin/np.max(c)    # calculate time step from stability criterion\n",
    "nt = int(round(tmax/dt))    # Number of time steps"
   ]
  },
  {
   "cell_type": "markdown",
   "metadata": {},
   "source": [
    "### 3. Source Initialization "
   ]
  },
  {
   "cell_type": "code",
   "execution_count": null,
   "metadata": {
    "code_folding": []
   },
   "outputs": [],
   "source": [
    "# source time function\n",
    "# ---------------------------------------------------------------\n",
    "t = np.arange(1, nt+1)*dt  # initialize time axis\n",
    "T0 = 1./f0\n",
    "tmp = ricker(dt, T0)\n",
    "isrc = tmp\n",
    "tmp = np.diff(tmp)\n",
    "src = np.zeros(nt) \n",
    "src[0:np.size(tmp)] = tmp\n",
    "\n",
    "#spatial source function\n",
    "# ---------------------------------------------------------------\n",
    "sigma = 1.5*dxmax\n",
    "x0 = x[int(xs)]\n",
    "sg = np.exp(-1/sigma**2*(x-x0)**2)\n",
    "sg = sg/max(sg) "
   ]
  },
  {
   "cell_type": "markdown",
   "metadata": {},
   "source": [
    "### 4. Time Extrapolation\n",
    "\n",
    "Now we time extrapolate using the previously defined get_cheby_matrix(nx) method to call the differentiation matrix. The discrete values of the numerical simulation are indicated by dots in the animation, they represent the Chebyshev collocation points. Observe how the wavefield near the domain center is less dense than towards the boundaries.\n",
    "\n",
    "**Note:** The wavefield is plotted with dots in order to indicate the densification of the grid near the boundaries and the small number of points per wavelength required.  "
   ]
  },
  {
   "cell_type": "code",
   "execution_count": null,
   "metadata": {},
   "outputs": [],
   "source": [
    "# Initialize animated plot\n",
    "# ---------------------------------------------------------------\n",
    "fig = plt.figure(figsize=(10,6))\n",
    "ax = fig.add_subplot(111)\n",
    "\n",
    "line, = ax.plot(x, u, 'k.', lw=1.5)\n",
    "ax.set_title('Chebyshev Method - 1D Elastic wave', size=16)\n",
    "ax.set_xlabel(' x(m)', size=14)\n",
    "ax.set_ylabel(' Amplitude ', size=14)\n",
    "\n",
    "\n",
    "plt.show()"
   ]
  },
  {
   "cell_type": "code",
   "execution_count": null,
   "metadata": {},
   "outputs": [],
   "source": [
    "# ---------------------------------------------------------------\n",
    "# Time extrapolation\n",
    "# ---------------------------------------------------------------\n",
    "\n",
    "# Progress Bar\n",
    "progress_handler = ProgressBarHandler(nt, \"Chebyshev Method\")\n",
    "\n",
    "\n",
    "# Differentiation matrix\n",
    "D = get_cheby_matrix(nx)\n",
    "\n",
    "# Simulation Results\n",
    "u_results = np.zeros((math.ceil(nt/idisp), nx+1))\n",
    "\n",
    "for it in range(nt):\n",
    "    # Space derivatives (corrected May 11, 2020)\n",
    "    du = mu * D @ u\n",
    "    du = D @ du/rho\n",
    "    \n",
    "    \n",
    "    # Time extrapolation \n",
    "    unew = 2*u - uold + np.transpose(du) * dt**2\n",
    "    \n",
    "    # Source injection\n",
    "    unew = unew + sg*src[it]*dt**2/rho\n",
    "    \n",
    "    # Remapping\n",
    "    uold, u = u, unew\n",
    "    u[0] = 0; u[nx] = 0 # set boundaries pressure free \n",
    "\n",
    "    if it % idisp == 0:\n",
    "        u_results[it//idisp] = u\n",
    "        \n",
    "\n",
    "    progress_handler(it)\n",
    "\n",
    "\n",
    "ax.set_ylim(np.min(u_results), np.max(u_results))\n",
    "\n",
    "None"
   ]
  },
  {
   "cell_type": "code",
   "execution_count": null,
   "metadata": {},
   "outputs": [],
   "source": [
    "from animation import create_animation_cheby_elastic\n",
    "\n",
    "ani = create_animation_cheby_elastic(locals())\n",
    "\n",
    "display(HTML(ani.to_html5_video()))\n",
    "\n",
    "plt.close()"
   ]
  },
  {
   "cell_type": "code",
   "execution_count": null,
   "metadata": {},
   "outputs": [],
   "source": []
  }
 ],
 "metadata": {
  "anaconda-cloud": {},
  "kernelspec": {
   "display_name": "Python 3",
   "language": "python",
   "name": "python3"
  },
  "language_info": {
   "codemirror_mode": {
    "name": "ipython",
    "version": 3
   },
   "file_extension": ".py",
   "mimetype": "text/x-python",
   "name": "python",
   "nbconvert_exporter": "python",
   "pygments_lexer": "ipython3",
   "version": "3.1.undefined"
  }
 },
 "nbformat": 4,
 "nbformat_minor": 1
}
