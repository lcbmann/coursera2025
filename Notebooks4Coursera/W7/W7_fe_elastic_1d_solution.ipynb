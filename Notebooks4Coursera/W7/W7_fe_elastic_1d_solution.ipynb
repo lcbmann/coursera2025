{
 "cells": [
  {
   "cell_type": "markdown",
   "metadata": {},
   "source": [
    "<div style='background-image: url(\"./title01.png\") ; padding: 0px ; background-size: cover ; border-radius: 5px ; height: 200px'>\n",
    "<div style=\"float: right ; margin: 50px ; padding: 20px ; background: rgba(255 , 255 , 255 , 0.7) ; width: 50% ; height: 150px\">\n",
    "<div style=\"position: relative ; top: 50% ; transform: translatey(-50%)\">\n",
    "            <div style=\"font-size: xx-large ; font-weight: 900 ; color: rgba(0 , 0 , 0 , 0.8) ; line-height: 100%\">Computers, Waves, Simulations</div>\n",
    "            <div style=\"font-size: large ; padding-top: 20px ; color: rgba(0 , 0 , 0 , 0.5)\">The Finite Element Method - Elastic Wave Equation 1D</div>\n",
    "        </div>\n",
    "    </div>\n",
    "</div>"
   ]
  },
  {
   "cell_type": "markdown",
   "metadata": {},
   "source": [
    "This notebook covers the following aspects:\n",
    "* Initialize and setup of the finite element solution for the 1D wave equation\n",
    "* Define the Mass Matrix and Stiffness Matrix and visually inspect their structure\n",
    "* Implementation of a finite difference scheme for comparision with the finite element scheme\n",
    "* The finite element solution using the computed mass matrix M and stiffness matrix K \n"
   ]
  },
  {
   "cell_type": "markdown",
   "metadata": {},
   "source": [
    "## Basic Equations\n",
    "This notebook presents a finite element code for the 1D elastic wave equation. Additionally, a solution using finite difference scheme is given for comparison.\n",
    "\n",
    "The problem of solving the wave equation\n",
    "\n",
    "\\begin{equation}\n",
    "\\rho(x) \\partial_t^2 u(x,t) = \\partial_x (\\mu(x) \\partial_x u(x,t)) + f(x,t)\n",
    "\\end{equation}\n",
    "\n",
    "using the finite element method is done after a series of steps performed on the above equation.\n",
    "\n",
    "1) We first obtain a weak form of the wave equation by integrating over the entire physical domain $D$ and at the same time multiplying by some basis $\\varphi_{i}$. \n",
    "\n",
    "2) Integration by parts and implementation of the stress-free boundary condition is performed.\n",
    "\n",
    "3) We approximate our unknown displacement field $u(x, t)$ by a sum over space-dependent basis functions $\\varphi_i$ weighted by time-dependent coefficients $u_i(t)$.\n",
    "\n",
    "\\begin{equation}\n",
    "u(x,t) \\ \\approx \\ \\overline{u}(x,t) \\ = \\ \\sum_{i=1}^{n} u_i(t) \\ \\varphi_i(x)\n",
    "\\end{equation}\n",
    "\n",
    "4) Utilize the same basis functions used to expand $u(x, t)$ as test functions in the weak form, this is the Galerkin principle.\n",
    "\n",
    "5) We can turn the continuous weak form into a system of linear equations by considering the approximated displacement field.\n",
    "\n",
    "\\begin{equation}\n",
    "\\mathbf{M}^T\\partial_t^2 \\mathbf{u} + \\mathbf{K}^T\\mathbf{u} = \\mathbf{f}\n",
    "\\end{equation}\n",
    "\n",
    "6) For the second time-derivative, we use a standard finite-difference approximation. Finally, we arrive at the explicit time extrapolation scheme.\n",
    "\n",
    "\\begin{equation}\n",
    "\\mathbf{u}(t + dt) = dt^2 (\\mathbf{M}^T)^{-1}[\\mathbf{f} - \\mathbf{K}^T\\mathbf{u}] + 2\\mathbf{u} - \\mathbf{u}(t-dt).\n",
    "\\end{equation}\n",
    "\n",
    "where $\\mathbf{M}$ is known as the mass matrix, and $\\mathbf{K}$ the stiffness matrix.\n",
    "\n",
    "7) As interpolating functions, we choose interpolants such that $\\varphi_{i}(x_{i}) = 1$ and zero elsewhere. Then, we transform the space coordinate into a local system. According to $\\xi = x − x_{i}$ and $h_{i} = x_{i+1} − x_{i}$, we have:\n",
    "\n",
    "<p style=\"width:35%;float:right;padding-left:50px\">\n",
    "<img src=fig_fe_basis_h.png>\n",
    "<span style=\"font-size:smaller\">\n",
    "</span>\n",
    "</p>\n",
    "\n",
    "\\begin{equation}\n",
    " \\varphi_{i}(\\xi) =\n",
    "  \\begin{cases}\n",
    "    \\frac{\\xi}{h_{i-1}} + 1  & \\quad \\text{if} \\quad -h_{i-1} \\le \\xi \\le 0\\\\\n",
    "    1 + \\frac{\\xi}{h_{i}}    & \\quad \\text{if} \\quad 0 \\le \\xi \\le h_{i}\\\\\n",
    "    0  & \\quad elsewhere\\\\\n",
    "  \\end{cases}\n",
    "\\end{equation}\n",
    "\n",
    "with the corresponding derivatives\n",
    "\n",
    "\\begin{equation}\n",
    " \\partial_{\\xi}\\varphi_{i}(\\xi) =\n",
    "  \\begin{cases}\n",
    "    \\frac{1}{h_{i-1}}  & \\quad \\text{if} \\quad -h_{i-1} \\le \\xi \\le 0\\\\\n",
    "   -\\frac{1}{h_{i}}    & \\quad \\text{if} \\quad 0 \\le \\xi \\le h_{i}\\\\\n",
    "    0  & \\quad elsewhere\\\\\n",
    "  \\end{cases}\n",
    "\\end{equation}\n",
    "\n",
    "The figure on the left-hand side illustrates the shape of $\\varphi_{i}(\\xi)$ and $\\partial_{\\xi}\\varphi_{i}(\\xi)$ with varying $h$.\n",
    "\n",
    "Code implementation starts with the initialization of a particular setup of our problem. Then, we define the source that introduces perturbations following by initialization of the mass and stiffness matrices. Finally, time extrapolation is done."
   ]
  },
  {
   "cell_type": "code",
   "execution_count": null,
   "metadata": {
    "code_folding": [],
    "collapsed": true
   },
   "outputs": [],
   "source": [
    "# This is a configuration step for the exercise. Please run it before plotting!\n",
    "import numpy as np\n",
    "%matplotlib inline\n",
    "import matplotlib.pyplot as plt"
   ]
  },
  {
   "cell_type": "markdown",
   "metadata": {},
   "source": [
    "### 1. Initialization of setup"
   ]
  },
  {
   "cell_type": "code",
   "execution_count": 2,
   "metadata": {
    "code_folding": [
     0
    ],
    "collapsed": true
   },
   "outputs": [],
   "source": [
    "# Initialization of setup\n",
    "# ---------------------------------------------------------------\n",
    "# Basic parameters\n",
    "nx    = 1000    # Number of collocation points  \n",
    "xmax  = 10000.  # Physical dimension [m]\n",
    "vs    = 3000    # Wave velocity [m/s] \n",
    "ro0   = 2500    # Density [kg/m^3]\n",
    "nt    = 2000    # Number of time steps\n",
    "isx   = 500     # Source location [m] \n",
    "eps   = 0.5     # Stability limit\n",
    "idisp = 20      # Snapshot frequency\n",
    "\n",
    "dx = xmax/(nx-1)           # calculate space increment\n",
    "x  = np.arange(0, nx)*dx   # initialize space coordinates\n",
    "x  = np.transpose(x)\n",
    "\n",
    "h = np.diff(x)  # Element sizes [m]\n",
    "\n",
    "# parameters\n",
    "ro = x*0 + ro0\n",
    "mu = x*0 + ro*vs**2\n",
    "\n",
    "# time step from stabiity criterion\n",
    "dt = 0.5*eps*dx/np.max(np.sqrt(mu/ro))\n",
    "# initialize time axis\n",
    "t   = np.arange(1, nt+1)*dt  \n",
    "\n",
    "# ---------------------------------------------------------------\n",
    "# Initialize fields\n",
    "# ---------------------------------------------------------------\n",
    "u    = np.zeros(nx)\n",
    "uold = np.zeros(nx)\n",
    "unew = np.zeros(nx)\n",
    "\n",
    "p    = np.zeros(nx)\n",
    "pold = np.zeros(nx)\n",
    "pnew = np.zeros(nx)"
   ]
  },
  {
   "cell_type": "markdown",
   "metadata": {
    "solution2": "hidden",
    "solution2_first": true
   },
   "source": [
    "### 2. Source time function\n",
    "\n",
    "In 1D the propagating signal is an integral of the source time function. As we look for a Gaussian waveform, we initialize the source time function $f(t)$ using the first derivative of a Gaussian function.\n",
    "\n",
    "\\begin{equation}\n",
    "f(t) = -\\dfrac{2}{\\sigma^2}(t - t_0)e^{-\\dfrac{(t - t_0)^2}{\\sigma^2}}\n",
    "\\end{equation}\n",
    "\n",
    "Initialize a source time function called 'src'.  Use $\\sigma = 20 dt$ as Gaussian width, and time shift $t_0 = 3\\sigma$. Then, visualize the source in a given plot."
   ]
  },
  {
   "cell_type": "code",
   "execution_count": null,
   "metadata": {
    "code_folding": [
     0
    ],
    "solution2": "hidden"
   },
   "outputs": [],
   "source": [
    "# Initialization of the source time function\n",
    "# ---------------------------------------------------------------\n",
    "pt  = 20*dt     # Gaussian width\n",
    "t0  = 3*pt      # Time shift\n",
    "src = -2/pt**2 * (t-t0) * np.exp(-1/pt**2 * (t-t0)**2)\n",
    "\n",
    "# Source vector\n",
    "# ---------------------------------------------------------------\n",
    "f = np.zeros(nx); f[isx:isx+1] = f[isx:isx+1] + 1.\n",
    "\n",
    "# ---------------------------------------------------------------\n",
    "# Plot source time fuction\n",
    "# ---------------------------------------------------------------\n",
    "plt.plot(t, src, color='b', lw=2, label='Source time function')\n",
    "plt.ylabel('Amplitude', size=16)\n",
    "plt.xlabel('time', size=16)\n",
    "plt.legend()\n",
    "plt.grid(True)\n",
    "plt.show()"
   ]
  },
  {
   "cell_type": "markdown",
   "metadata": {
    "solution2": "hidden",
    "solution2_first": true
   },
   "source": [
    "### 3. The Mass Matrix\n",
    "Having implemented the desired source, now we initialize the mass and stiffness matrices. In general, the mass matrix is given by\n",
    "\n",
    "\\begin{equation}\n",
    "M_{ij} = \\int_{D} \\rho \\varphi_i \\varphi_j dx = \\int_{D_{\\xi}} \\rho \\varphi_i \\varphi_j d\\xi\n",
    "\\end{equation}\n",
    "\n",
    "Next, the defined basis are introduced and some algebraic treatment is done to arrive at the explicit form of the mass matrix\n",
    "\n",
    "\\begin{equation}\n",
    "M_{ij} = \\frac{\\rho h}{6}\n",
    " \\begin{pmatrix}\n",
    "   \\ddots  &    &    &    & 0\\\\\n",
    "   1 & 4 &  1 &    &  \\\\\n",
    "     & 1 &  4 &  1 &  \\\\\n",
    "     &   &  1 &  4 & 1\\\\\n",
    "   0 &   &    &    &  \\ddots\n",
    " \\end{pmatrix} \n",
    "\\end{equation}"
   ]
  },
  {
   "cell_type": "code",
   "execution_count": 4,
   "metadata": {
    "code_folding": [
     0
    ],
    "collapsed": true,
    "solution2": "hidden"
   },
   "outputs": [],
   "source": [
    "# Mass matrix M_ij\n",
    "# ---------------------------------------------------------------\n",
    "M = np.zeros((nx,nx), dtype=float)\n",
    "for i in range(1, nx-1):\n",
    "    for j in range (1, nx-1):\n",
    "        if j==i:\n",
    "            M[i,j] = (ro[i-1]*h[i-1] + ro[i]*h[i])/3\n",
    "        elif j==i+1:\n",
    "            M[i,j] = ro[i]*h[i]/6\n",
    "        elif j==i-1:\n",
    "            M[i,j] = ro[i-1]*h[i-1]/6\n",
    "        else:\n",
    "            M[i,j] = 0\n",
    "            \n",
    "# Corner elements\n",
    "M[0,0] = ro[0]*h[0]/3\n",
    "M[nx-1,nx-1] = ro[nx-1]*h[nx-2]/3\n",
    "# Invert M\n",
    "Minv = np.linalg.inv(M)"
   ]
  },
  {
   "cell_type": "markdown",
   "metadata": {
    "solution2": "hidden",
    "solution2_first": true
   },
   "source": [
    "### 4. The Stiffness matrix\n",
    "The general form of the stiffness matrix is\n",
    "\n",
    "\\begin{equation}\n",
    "K_{ij} = \\int_{D} \\mu \\partial_x\\varphi_i \\partial_x\\varphi_j dx = \\int_{D_{\\xi}} \\mu \\partial_\\xi\\varphi_i \\partial_\\xi\\varphi_j d\\xi\n",
    "\\end{equation} \n",
    "\n",
    "After some algebraic treatment, we arrive at the explicit form of the stiffness matrix\n",
    "\n",
    "\\begin{equation}\n",
    "K_{ij} = \\frac{\\mu}{h}\n",
    " \\begin{pmatrix}\n",
    "   \\ddots  &    &    &    & 0\\\\\n",
    "  -1 & 2 & -1 &    &  \\\\\n",
    "     &-1 &  2 & -1 &  \\\\\n",
    "     &   & -1 &  2 & -1\\\\\n",
    "   0 &   &    &    &  \\ddots\n",
    " \\end{pmatrix} \n",
    "\\end{equation}\n"
   ]
  },
  {
   "cell_type": "code",
   "execution_count": 5,
   "metadata": {
    "code_folding": [
     0
    ],
    "collapsed": true,
    "solution2": "hidden"
   },
   "outputs": [],
   "source": [
    "# Stiffness matrix Kij\n",
    "# ---------------------------------------------------------------\n",
    "K = np.zeros((nx,nx), dtype=float)\n",
    "for i in range(1, nx-1):\n",
    "    for j in range(1, nx-1):\n",
    "        if i==j:\n",
    "            K[i,j] = mu[i-1]/h[i-1] + mu[i]/h[i]\n",
    "        elif i==j+1:\n",
    "            K[i,j] = -mu[i-1]/h[i-1]\n",
    "        elif i+1==j:\n",
    "            K[i,j] = -mu[i]/h[i]\n",
    "        else:\n",
    "            K[i,j] = 0\n",
    "\n",
    "K[0,0] = mu[0]/h[0]\n",
    "K[nx-1,nx-1] = mu[nx-1]/h[nx-2]"
   ]
  },
  {
   "cell_type": "code",
   "execution_count": null,
   "metadata": {
    "code_folding": [
     0
    ]
   },
   "outputs": [],
   "source": [
    "# Display finite element matrices\n",
    "# ---------------------------------------------------------------\n",
    "fig, (ax1, ax2) = plt.subplots(1, 2)\n",
    "ax1.imshow(K[1:10,1:10])\n",
    "ax1.set_title('Finite-Element Stiffness Matrix $\\mathbf{K}$')\n",
    "ax1.axis(\"off\")\n",
    "\n",
    "ax2.imshow(Minv[1:10,1:10])\n",
    "ax2.set_title('Finite-Element Mass Matrix $\\mathbf{M^{-1}}$')\n",
    "ax2.axis(\"off\")\n",
    "\n",
    "plt.tight_layout()\n",
    "plt.show()"
   ]
  },
  {
   "cell_type": "markdown",
   "metadata": {
    "solution2": "hidden",
    "solution2_first": true
   },
   "source": [
    "### 5. Finite differences matrices\n",
    "We implement a finite difference scheme using matrix-vector operations in order to compare with the finite elements solution. \n",
    "\n",
    "The classic 2nd derivative matrix (corresponding to the stiffness matrix in the finite-element scheme) can be initialized as \n",
    "\n",
    "\\begin{equation}\n",
    "D_{ij} = \\frac{\\mu}{dx^2}\n",
    " \\begin{pmatrix}\n",
    "   -2 & 1  &    &    &  \\\\\n",
    "    1 & -2 & 1  &    &  \\\\\n",
    "      &  & \\ddots  &  & \\\\\n",
    "      &   & 1 &  -2 & 1\\\\\n",
    "      &   &    &  1 & -2\n",
    " \\end{pmatrix} \n",
    "\\end{equation}\n",
    "\n",
    "To bring the finite-difference scheme formally to the same structure we also need the corresponding mass matrix simply using the inverse densities, we initialize with\n",
    "\n",
    "\\begin{equation}\n",
    "M^{fd}_{ij} = \n",
    " \\begin{pmatrix}\n",
    "   1/{\\rho_1} &   &    &    &  \\\\\n",
    "     &  1/{\\rho_2} &  &    &  \\\\\n",
    "      &  & \\ddots  &  & \\\\\n",
    "      &   &   &  1/{\\rho_{N-1}}  & \\\\\n",
    "      &   &    &   & 1/{\\rho_{N}}\n",
    " \\end{pmatrix} \n",
    "\\end{equation}\n"
   ]
  },
  {
   "cell_type": "code",
   "execution_count": 7,
   "metadata": {
    "code_folding": [
     0
    ],
    "collapsed": true,
    "solution2": "hidden"
   },
   "outputs": [],
   "source": [
    "# Initialize finite differences matrices \n",
    "# ---------------------------------------------------------------\n",
    "Mfd = np.zeros((nx,nx), dtype=float)\n",
    "D  = np.zeros((nx,nx), dtype=float)\n",
    "dx = h[1]\n",
    "\n",
    "for i in range(nx):\n",
    "    Mfd[i,i] = 1./ro[i]\n",
    "    if i>0:\n",
    "        if i<nx-1:\n",
    "            D[i+1,i] =1\n",
    "            D[i-1,i] =1\n",
    "            D[i,i] = -2\n",
    "            \n",
    "D = ro0 * vs**2 * D/dx**2"
   ]
  },
  {
   "cell_type": "code",
   "execution_count": null,
   "metadata": {
    "code_folding": [
     0
    ]
   },
   "outputs": [],
   "source": [
    "# Display differences matrices\n",
    "# ---------------------------------------------------------------\n",
    "fig, (ax1, ax2) = plt.subplots(1, 2)\n",
    "ax1.imshow(-D[1:10,1:10])\n",
    "ax1.set_title('Finite-Difference Derivative Matrix $\\mathbf{D}$')\n",
    "ax1.axis(\"off\")\n",
    "\n",
    "ax2.imshow(Mfd[1:10,1:10])\n",
    "ax2.set_title('Finite-Difference Mass Matrix $\\mathbf{M_{fd}}$')\n",
    "ax2.axis(\"off\")\n",
    "\n",
    "plt.tight_layout()\n",
    "plt.show()"
   ]
  },
  {
   "cell_type": "markdown",
   "metadata": {},
   "source": [
    "### 6. Finite element solution \n",
    "\n",
    "Finally we implement the finite element solution using the computed mass $M$ and stiffness $K$ matrices together with a finite differences extrapolation scheme\n",
    "\n",
    "\\begin{equation}\n",
    "\\mathbf{u}(t + dt) = dt^2 (\\mathbf{M}^T)^{-1}[\\mathbf{f} - \\mathbf{K}^T\\mathbf{u}] + 2\\mathbf{u} - \\mathbf{u}(t-dt).\n",
    "\\end{equation}"
   ]
  },
  {
   "cell_type": "code",
   "execution_count": null,
   "metadata": {
    "code_folding": [
     0
    ]
   },
   "outputs": [],
   "source": [
    "# Initialize animated plot\n",
    "# ---------------------------------------------------------------\n",
    "fig1, ax1 = plt.subplots(figsize=(12,4))\n",
    "\n",
    "line1, = ax1.plot(x, u, 'k', lw=1.5, label='FEM')\n",
    "line2, = ax1.plot(x, p, 'r', lw=1.5, label='FDM')\n",
    "ax1.set_title('Finite elements 1D Animation', fontsize=16)\n",
    "ax1.set_ylabel('Amplitude', fontsize=12)\n",
    "ax1.set_xlabel('x (m)', fontsize=12)\n",
    "\n",
    "plt.show()"
   ]
  },
  {
   "cell_type": "code",
   "execution_count": null,
   "metadata": {
    "code_folding": [],
    "collapsed": true
   },
   "outputs": [],
   "source": [
    "# ---------------------------------------------------------------\n",
    "# Time extrapolation\n",
    "# ---------------------------------------------------------------\n",
    "\n",
    "# Progress Bar\n",
    "progress_handler = ProgressBarHandler(nt, \"Finite elements 1D Animation\")\n",
    "\n",
    "# Simulation Results\n",
    "u_results = np.zeros((math.ceil(nt/idisp), nx))\n",
    "p_results = np.zeros((math.ceil(nt/idisp), nx))\n",
    "\n",
    "for it in range(nt):\n",
    "    # --------------------------------------\n",
    "    # Finite Element Method\n",
    "    unew = (dt**2) * Minv @ (f*src[it]  -  K @ u) + 2*u - uold                         \n",
    "    uold, u = u, unew\n",
    "    \n",
    "    # --------------------------------------\n",
    "    # Finite Difference Method\n",
    "    pnew = (dt**2) * Mfd @ ( f/dx*src[it]+ D @ p) + 2*p - pold\n",
    "    pold, p = p, pnew\n",
    "     \n",
    "    # Save Results\n",
    "    if it % idisp == 0:\n",
    "        u_results[int(it/idisp), :] = u\n",
    "        p_results[int(it/idisp), :] = p\n",
    "\n",
    "    progress_handler(it)\n",
    "\n",
    "None"
   ]
  },
  {
   "cell_type": "code",
   "execution_count": null,
   "metadata": {},
   "outputs": [],
   "source": [
    "from animation import create_animation_fe_elastic_1d_solution\n",
    "\n",
    "ani = create_animation_fe_elastic_1d_solution(locals())\n",
    "\n",
    "display(HTML(ani.to_jshtml()))\n",
    "\n",
    "plt.close()"
   ]
  }
 ],
 "metadata": {
  "_draft": {
   "nbviewer_url": "https://gist.github.com/10386f7615ad230cc6d200d6e91e5a5b"
  },
  "anaconda-cloud": {},
  "gist": {
   "data": {
    "description": "Desktop/Jupyter/Finite_Elements/fe_elastic_1d.ipynb",
    "public": true
   },
   "id": "10386f7615ad230cc6d200d6e91e5a5b"
  },
  "kernelspec": {
   "display_name": "coursera",
   "language": "python",
   "name": "python3"
  },
  "language_info": {
   "codemirror_mode": {
    "name": "ipython",
    "version": 3
   },
   "file_extension": ".py",
   "mimetype": "text/x-python",
   "name": "python",
   "nbconvert_exporter": "python",
   "pygments_lexer": "ipython3",
   "version": "3.12.3"
  },
  "latex_envs": {
   "bibliofile": "biblio.bib",
   "cite_by": "apalike",
   "current_citInitial": 1,
   "eqLabelWithNumbers": true,
   "eqNumInitial": 0
  },
  "nav_menu": {},
  "toc": {
   "navigate_menu": true,
   "number_sections": true,
   "sideBar": false,
   "threshold": 6,
   "toc_cell": false,
   "toc_section_display": "block",
   "toc_window_display": false
  },
  "toc_position": {
   "height": "274px",
   "left": "939px",
   "right": "20px",
   "top": "158px",
   "width": "212px"
  }
 },
 "nbformat": 4,
 "nbformat_minor": 1
}
